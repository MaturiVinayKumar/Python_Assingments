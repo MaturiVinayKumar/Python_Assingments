{
 "cells": [
  {
   "cell_type": "raw",
   "id": "7943c831",
   "metadata": {},
   "source": [
    " 1. In the below elements which of them are values or an expression? eg:- values can be integer or string and expressions will be mathematical operators.\n",
    "    *      -     Expression\n",
    "    'hello'-     String\n",
    "    -87.8  -     Integer\n",
    "    -      -     Expression\n",
    "    /      -     Expression\n",
    "    +\t   -     Expression\n",
    "    6      -     Integer"
   ]
  },
  {
   "cell_type": "raw",
   "id": "fdf6ca1f",
   "metadata": {},
   "source": [
    "2. What is the difference between string and variable?\n",
    "\n",
    "    Variable – Variable is something which is used to store the data (or) which holds the value\n",
    "    String – String is a series of characters."
   ]
  },
  {
   "cell_type": "raw",
   "id": "ee0ada59",
   "metadata": {},
   "source": [
    "\n",
    "3. Describe three different data types.\n",
    "\n",
    "    List,Tuple,Dictionary,Set"
   ]
  },
  {
   "cell_type": "raw",
   "id": "11ae32e3",
   "metadata": {},
   "source": [
    "4. What is an expression made up of? What do all expressions do?\n",
    "\n",
    "        Expression is combination of values, variables, operators, and calls to functions. Expressions do evalution"
   ]
  },
  {
   "cell_type": "raw",
   "id": "696bddcb",
   "metadata": {},
   "source": [
    "5. This assignment statements, like spam = 10. What is the difference between an expression and a statement?\n",
    "\n",
    "Expressions gives result after evalution while statement wont give any result."
   ]
  },
  {
   "cell_type": "raw",
   "id": "aedcb66e",
   "metadata": {},
   "source": [
    "6. After running the following code, what does the variable bacon contain?\n",
    "bacon = 22\n",
    "bacon + 1\n",
    "\n",
    "bacon contains the value of 22."
   ]
  },
  {
   "cell_type": "raw",
   "id": "3f2402b7",
   "metadata": {},
   "source": [
    "7. What should the values of the following two terms be?\n",
    "'spam' + 'spamspam'\n",
    "'spam' * 3 -  \n",
    "\n",
    "If we don’t run this without print before the statement then there will be no result\n",
    "If you print the above then\n",
    "-\tSpamspamspam\n",
    "-\tspamspamspam"
   ]
  },
  {
   "cell_type": "raw",
   "id": "6112bfeb",
   "metadata": {},
   "source": [
    "\n",
    "8. Why is eggs a valid variable name while 100 is invalid?\n",
    "Because according Python rules for declaring a variable –\n",
    "\tA variable can not start with integer.\n",
    "\tA variable name starts with name or underscore"
   ]
  },
  {
   "cell_type": "raw",
   "id": "b371aafb",
   "metadata": {},
   "source": [
    "9. What three functions can be used to get the integer, floating-point number, or string version of a value?\n",
    "\n",
    "Int() float() str()"
   ]
  },
  {
   "cell_type": "raw",
   "id": "4ae11084",
   "metadata": {},
   "source": [
    "10. Why does this expression cause an error? How can you fix it?\n",
    "'I have eaten ' + 99 + ' burritos.' \n",
    "\n",
    "Mathemetical operation or string concatenation can not be performed between values and and strings.\n",
    "It will be performed if everyvalue is string or value.\n",
    "It can be fixed by keeping single quotes to 99\n",
    "    'I have eaten ' + '99' + ' burritos.' "
   ]
  }
 ],
 "metadata": {
  "kernelspec": {
   "display_name": "Python 3 (ipykernel)",
   "language": "python",
   "name": "python3"
  },
  "language_info": {
   "codemirror_mode": {
    "name": "ipython",
    "version": 3
   },
   "file_extension": ".py",
   "mimetype": "text/x-python",
   "name": "python",
   "nbconvert_exporter": "python",
   "pygments_lexer": "ipython3",
   "version": "3.9.7"
  }
 },
 "nbformat": 4,
 "nbformat_minor": 5
}
